{
 "cells": [
  {
   "cell_type": "markdown",
   "metadata": {},
   "source": [
    "# DataFabrikken Hackathon\n",
    "Welcome to the Hackathon! This Jupyter Python-notebook can help you getting started with the datasets provided.\n",
    "\n",
    "We start by importing some common Python libraries that we might need, in the cell below. Execute the commands/content in the cells by using \"Run\" from the menu (with the cell that you want to run selected), or use \"Ctrl+Enter\" on the keyboard."
   ]
  },
  {
   "cell_type": "code",
   "execution_count": null,
   "metadata": {},
   "outputs": [],
   "source": [
    "import pandas as pd\n",
    "import numpy as np\n",
    "import re\n",
    "from datetime import datetime\n",
    "import math\n",
    "import timeit\n",
    "import requests\n",
    "import io\n",
    "import time\n",
    "import matplotlib.pyplot as plt\n",
    "import seaborn as sns"
   ]
  },
  {
   "cell_type": "markdown",
   "metadata": {},
   "source": [
    "# Energy Datasets from municipalitites\n",
    "\n",
    "The datasets are based on municipality source data.\n",
    "\n",
    "There are four types of datasets that are connected:\n",
    "- Location: Describes a location (usually a building) that we have energy data for.\n",
    "- Measurement point: Describes a measurement point with a unique ID, what the measurement point is, and the unit of measurement.\n",
    "- LocationMeasurementPoint: Connects a measurement point to a location and gives a local name for the measurement point. Some measurement points are used by several locations, for instance units for temperature measurement from public measurement stations from The Metheorological Institute (met.no)\n",
    "- Measurements: Timestamped measurement value from a measurement point.\n",
    "\n",
    "#### The descriptions of the individual datasets are shown below.\n",
    "\n",
    "## Location\n",
    "| Feltnavn | Beskrivelse  |\n",
    "| -------- | ------------ |\n",
    "| location | Navn på lokasjonen, f.eks. navn på skole eller barnehage |\n",
    "| municipality_code | Kommunekoden for lokasjonen. Kodene er definert i datasettet [Standard for kommuneinndeling](https://www.ssb.no/klass/klassifikasjoner/131/koder) hos SSB. |\n",
    "| location_type | Type lokasjon. Lovlige verdier: Bygning, Rom, Annet |\n",
    "| building_type | Type bygning. Lovlige verdier: Skole, Barnehage, Helsebygg, Administrasjonsbygg, Idrettsbygg, Kirkelig bygg, Beredskapsbygg, Bydels- og fritidsbygg, Kulturbygg, Varmesentral, Annet bygg |\n",
    "| address | Adresse til lokasjonen / bygget |\n",
    "| latitude | Breddegrad for lokasjonen i desimalgrader |\n",
    "| longitude | Lengdegrad for lokasjonen i desimalgrader |\n",
    " \n",
    "## MeasurementPoint\n",
    "| Feltnavn | Beskrivelse  |\n",
    "| -------- | ------------ |\n",
    "| meter_id | Unik id for målepunktet. Eksempler: EID_972418013_00290, Eklima_82290_TAM |\n",
    "| meter_type | Beskriver hva slags type målepunkt det er. Eksempler er Fastkraft, Temperatur, Graddager, Varmepumpe |\n",
    "| unit | Enhet som måleren måler, f.eks. kWh, °C |\n",
    "| meter_level | Vanligvis en av følgende to verdier: Forbruksmåler, Annen måler |\n",
    " \n",
    "## LocationMeasurementPoint\n",
    "| Feltnavn | Beskrivelse  |\n",
    "| -------- | ------------ |\n",
    "| location | Navn på lokasjonen (se Location) |\n",
    "| municipality_code | Kommunekoden for lokasjonen |\n",
    "| meter_id | Unik id for målepunktet (se MeasurementPoint) |\n",
    "| meter_name | Lokalt navn for målepunktet (unikt bare innenfor lokasjonen). Eksempler: Temp middel, Fastkraft, Fastkraft 67756 |\n",
    " \n",
    "## Measurements\n",
    "| Feltnavn | Beskrivelse  |\n",
    "| -------- | ------------ |\n",
    "| timestamp | Tidsstempel med dato og klokkeslett, f.eks. 2010-01-04 06:00:00 |\n",
    "| meter_id | Unik id for målepunkt (se MeasurementPoint) |\n",
    "| value | Måleravlesning. Vanligvis flyttall med komma som separator, f.eks. 4,20 |"
   ]
  },
  {
   "cell_type": "markdown",
   "metadata": {},
   "source": [
    "### You can work with the datasets directly in this example notebook (or create your own), and/or download them to your local PC by going to hotell.difi.no.\n",
    "\n",
    "### The following datasets are available for download:\n",
    "\n",
    "Bodø\n",
    "https://hotell.difi.no/?dataset=bodo/energy/location-measurement-points\n",
    "https://hotell.difi.no/?dataset=bodo/energy/locations\n",
    "https://hotell.difi.no/?dataset=bodo/energy/measurement-points\n",
    "https://hotell.difi.no/?dataset=bodo/energy/measurements\n",
    "\n",
    "Drammen\n",
    "https://hotell.difi.no/?dataset=drammen/energy/location-measurement-points\n",
    "https://hotell.difi.no/?dataset=drammen/energy/locations\n",
    "https://hotell.difi.no/?dataset=drammen/energy/measurement-points\n",
    "https://hotell.difi.no/?dataset=drammen/energy/measurements\n",
    "\n",
    "Stavanger\n",
    "https://hotell.difi.no/?dataset=stavanger/energy/location-measurement-points\n",
    "https://hotell.difi.no/?dataset=stavanger/energy/locations\n",
    "https://hotell.difi.no/?dataset=stavanger/energy/measurement-points\n",
    "https://hotell.difi.no/?dataset=stavanger/energy/measurements\n",
    "\n",
    "Trondheim\n",
    "https://hotell.difi.no/?dataset=trondheim/energy/location-measurement-points\n",
    "https://hotell.difi.no/?dataset=trondheim/energy/locations\n",
    "https://hotell.difi.no/?dataset=trondheim/energy/measurement-points\n",
    "https://hotell.difi.no/?dataset=trondheim/energy/measurements"
   ]
  },
  {
   "cell_type": "markdown",
   "metadata": {},
   "source": [
    "### Example: Get the datasets from Bodø municipality and load into Python Pandas dataframes\n",
    "Here are some examples of getting the datasets for Bodø municipality and looking at the dataset sizes and data contained in the datasets."
   ]
  },
  {
   "cell_type": "code",
   "execution_count": null,
   "metadata": {},
   "outputs": [],
   "source": [
    "# Get the Bodø locations and measurement points\n",
    "\n",
    "url = 'https://hotell.difi.no/download/bodo/energy/location-measurement-points'\n",
    "\n",
    "df_location_measurement_points_bodo = pd.read_csv(url, sep=';')\n",
    "# Display the size of the dataset\n",
    "print(df_location_measurement_points_bodo.shape)\n",
    "# Display some of the data contained in the dataset\n",
    "df_location_measurement_points_bodo.head()"
   ]
  },
  {
   "cell_type": "code",
   "execution_count": null,
   "metadata": {},
   "outputs": [],
   "source": [
    "# Get the Bodø locations\n",
    "\n",
    "url = 'https://hotell.difi.no/download/bodo/energy/locations'\n",
    "\n",
    "df_locations_bodo = pd.read_csv(url, sep=';')\n",
    "print(df_locations_bodo.shape)\n",
    "df_locations_bodo.head()"
   ]
  },
  {
   "cell_type": "code",
   "execution_count": null,
   "metadata": {},
   "outputs": [],
   "source": [
    "# Show how a column's values is distributed in the data set\n",
    "print(df_locations_bodo['building_type'].value_counts())\n",
    "\n",
    "# Plot the same data in a horizontal bar plot\n",
    "df_locations_bodo['building_type'].value_counts().plot(kind='barh').set_title('Count of building types in Bodø dataset')\n",
    "plt.show()"
   ]
  },
  {
   "cell_type": "code",
   "execution_count": null,
   "metadata": {},
   "outputs": [],
   "source": [
    "# Get the Bodø measurement points\n",
    "\n",
    "url = 'https://hotell.difi.no/download/bodo/energy/measurement-points'\n",
    "\n",
    "df_measurement_points_bodo = pd.read_csv(url, sep=';')\n",
    "print(df_measurement_points_bodo.shape)\n",
    "df_measurement_points_bodo.head()"
   ]
  },
  {
   "cell_type": "code",
   "execution_count": null,
   "metadata": {},
   "outputs": [],
   "source": [
    "# Get the Bodø measurements\n",
    "\n",
    "url = 'https://hotell.difi.no/download/bodo/energy/measurements'\n",
    "\n",
    "df_measurements_bodo = pd.read_csv(url, sep=';', low_memory=False)\n",
    "print(df_measurements_bodo.shape)\n",
    "df_measurements_bodo.head()"
   ]
  },
  {
   "cell_type": "code",
   "execution_count": null,
   "metadata": {},
   "outputs": [],
   "source": [
    "# Example of joining/merging two datasets on a column that exists in both datasets\n",
    "\n",
    "df_merged = df_locations_bodo.merge(df_location_measurement_points_bodo, on='location', how='inner')\n",
    "df_merged.head(n=3)"
   ]
  },
  {
   "cell_type": "markdown",
   "metadata": {},
   "source": [
    "These are just some very  brief and simple examples of how to work with Pandas dataframes.\n",
    "\n",
    "Use the top menu or keyboard shortcuts to add, delete and move between cells to write code.\n",
    "\n",
    "### Good luck with the Hackathon!"
   ]
  },
  {
   "cell_type": "code",
   "execution_count": null,
   "metadata": {},
   "outputs": [],
   "source": []
  }
 ],
 "metadata": {
  "kernelspec": {
   "display_name": "Python 3 (ipykernel)",
   "language": "python",
   "name": "python3"
  },
  "language_info": {
   "codemirror_mode": {
    "name": "ipython",
    "version": 3
   },
   "file_extension": ".py",
   "mimetype": "text/x-python",
   "name": "python",
   "nbconvert_exporter": "python",
   "pygments_lexer": "ipython3",
   "version": "3.9.7"
  }
 },
 "nbformat": 4,
 "nbformat_minor": 4
}
